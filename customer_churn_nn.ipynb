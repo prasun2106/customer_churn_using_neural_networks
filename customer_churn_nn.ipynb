{
 "cells": [
  {
   "cell_type": "code",
   "execution_count": 10,
   "metadata": {},
   "outputs": [],
   "source": [
    "import numpy as np\n",
    "import matplotlib.pyplot as plt\n",
    "import pandas as pd"
   ]
  },
  {
   "cell_type": "code",
   "execution_count": 87,
   "metadata": {},
   "outputs": [],
   "source": [
    "# Step 1: Import and Preprocessing\n",
    "# Importing the dataset\n",
    "dataset = pd.read_csv('data/Churn_Modelling.csv')\n",
    "X = dataset.iloc[:, 3:13]\n",
    "y = dataset.iloc[:, 13]"
   ]
  },
  {
   "cell_type": "code",
   "execution_count": 88,
   "metadata": {},
   "outputs": [
    {
     "data": {
      "text/html": [
       "<div>\n",
       "<style scoped>\n",
       "    .dataframe tbody tr th:only-of-type {\n",
       "        vertical-align: middle;\n",
       "    }\n",
       "\n",
       "    .dataframe tbody tr th {\n",
       "        vertical-align: top;\n",
       "    }\n",
       "\n",
       "    .dataframe thead th {\n",
       "        text-align: right;\n",
       "    }\n",
       "</style>\n",
       "<table border=\"1\" class=\"dataframe\">\n",
       "  <thead>\n",
       "    <tr style=\"text-align: right;\">\n",
       "      <th></th>\n",
       "      <th>CreditScore</th>\n",
       "      <th>Geography</th>\n",
       "      <th>Gender</th>\n",
       "      <th>Age</th>\n",
       "      <th>Tenure</th>\n",
       "      <th>Balance</th>\n",
       "      <th>NumOfProducts</th>\n",
       "      <th>HasCrCard</th>\n",
       "      <th>IsActiveMember</th>\n",
       "      <th>EstimatedSalary</th>\n",
       "    </tr>\n",
       "  </thead>\n",
       "  <tbody>\n",
       "    <tr>\n",
       "      <th>0</th>\n",
       "      <td>619</td>\n",
       "      <td>France</td>\n",
       "      <td>Female</td>\n",
       "      <td>42</td>\n",
       "      <td>2</td>\n",
       "      <td>0.00</td>\n",
       "      <td>1</td>\n",
       "      <td>1</td>\n",
       "      <td>1</td>\n",
       "      <td>101348.88</td>\n",
       "    </tr>\n",
       "    <tr>\n",
       "      <th>1</th>\n",
       "      <td>608</td>\n",
       "      <td>Spain</td>\n",
       "      <td>Female</td>\n",
       "      <td>41</td>\n",
       "      <td>1</td>\n",
       "      <td>83807.86</td>\n",
       "      <td>1</td>\n",
       "      <td>0</td>\n",
       "      <td>1</td>\n",
       "      <td>112542.58</td>\n",
       "    </tr>\n",
       "    <tr>\n",
       "      <th>2</th>\n",
       "      <td>502</td>\n",
       "      <td>France</td>\n",
       "      <td>Female</td>\n",
       "      <td>42</td>\n",
       "      <td>8</td>\n",
       "      <td>159660.80</td>\n",
       "      <td>3</td>\n",
       "      <td>1</td>\n",
       "      <td>0</td>\n",
       "      <td>113931.57</td>\n",
       "    </tr>\n",
       "    <tr>\n",
       "      <th>3</th>\n",
       "      <td>699</td>\n",
       "      <td>France</td>\n",
       "      <td>Female</td>\n",
       "      <td>39</td>\n",
       "      <td>1</td>\n",
       "      <td>0.00</td>\n",
       "      <td>2</td>\n",
       "      <td>0</td>\n",
       "      <td>0</td>\n",
       "      <td>93826.63</td>\n",
       "    </tr>\n",
       "    <tr>\n",
       "      <th>4</th>\n",
       "      <td>850</td>\n",
       "      <td>Spain</td>\n",
       "      <td>Female</td>\n",
       "      <td>43</td>\n",
       "      <td>2</td>\n",
       "      <td>125510.82</td>\n",
       "      <td>1</td>\n",
       "      <td>1</td>\n",
       "      <td>1</td>\n",
       "      <td>79084.10</td>\n",
       "    </tr>\n",
       "  </tbody>\n",
       "</table>\n",
       "</div>"
      ],
      "text/plain": [
       "   CreditScore Geography  Gender  Age  Tenure    Balance  NumOfProducts  \\\n",
       "0          619    France  Female   42       2       0.00              1   \n",
       "1          608     Spain  Female   41       1   83807.86              1   \n",
       "2          502    France  Female   42       8  159660.80              3   \n",
       "3          699    France  Female   39       1       0.00              2   \n",
       "4          850     Spain  Female   43       2  125510.82              1   \n",
       "\n",
       "   HasCrCard  IsActiveMember  EstimatedSalary  \n",
       "0          1               1        101348.88  \n",
       "1          0               1        112542.58  \n",
       "2          1               0        113931.57  \n",
       "3          0               0         93826.63  \n",
       "4          1               1         79084.10  "
      ]
     },
     "execution_count": 88,
     "metadata": {},
     "output_type": "execute_result"
    }
   ],
   "source": [
    "X.head()"
   ]
  },
  {
   "cell_type": "code",
   "execution_count": 89,
   "metadata": {},
   "outputs": [
    {
     "data": {
      "text/plain": [
       "CreditScore         460\n",
       "Geography             3\n",
       "Gender                2\n",
       "Age                  70\n",
       "Tenure               11\n",
       "Balance            6382\n",
       "NumOfProducts         4\n",
       "HasCrCard             2\n",
       "IsActiveMember        2\n",
       "EstimatedSalary    9999\n",
       "dtype: int64"
      ]
     },
     "execution_count": 89,
     "metadata": {},
     "output_type": "execute_result"
    }
   ],
   "source": [
    "X.nunique()"
   ]
  },
  {
   "cell_type": "code",
   "execution_count": 90,
   "metadata": {},
   "outputs": [
    {
     "data": {
      "text/plain": [
       "Index(['CreditScore', 'Geography', 'Gender', 'Age', 'Tenure', 'Balance',\n",
       "       'NumOfProducts', 'HasCrCard', 'IsActiveMember', 'EstimatedSalary'],\n",
       "      dtype='object')"
      ]
     },
     "execution_count": 90,
     "metadata": {},
     "output_type": "execute_result"
    }
   ],
   "source": [
    "X.columns"
   ]
  },
  {
   "cell_type": "code",
   "execution_count": 91,
   "metadata": {},
   "outputs": [],
   "source": [
    "one_hot_columns = [col for col in X.columns if col not in  ['CreditScore','Age','Balance', 'EstimatedSalary']]"
   ]
  },
  {
   "cell_type": "code",
   "execution_count": 92,
   "metadata": {},
   "outputs": [],
   "source": [
    "X = pd.get_dummies(X, columns = one_hot_columns)"
   ]
  },
  {
   "cell_type": "code",
   "execution_count": 93,
   "metadata": {},
   "outputs": [],
   "source": [
    "# Convert Ag in buckets\n",
    "X['Age'] = pd.cut(X['Age'], 10)"
   ]
  },
  {
   "cell_type": "code",
   "execution_count": 94,
   "metadata": {},
   "outputs": [],
   "source": [
    "X = pd.get_dummies(X,columns = ['Age'])"
   ]
  },
  {
   "cell_type": "code",
   "execution_count": 95,
   "metadata": {},
   "outputs": [],
   "source": [
    "from sklearn.preprocessing import StandardScaler\n",
    "scaler = StandardScaler()\n",
    "X = pd.DataFrame(scaler.fit_transform(X),columns = X.columns)"
   ]
  },
  {
   "cell_type": "code",
   "execution_count": 98,
   "metadata": {},
   "outputs": [],
   "source": [
    "# Feature Scaling\n",
    "from sklearn.model_selection import train_test_split\n",
    "X_train, X_test, y_train, y_test = train_test_split(X, y)"
   ]
  },
  {
   "cell_type": "code",
   "execution_count": 105,
   "metadata": {
    "collapsed": true,
    "jupyter": {
     "outputs_hidden": true
    }
   },
   "outputs": [
    {
     "name": "stdout",
     "output_type": "stream",
     "text": [
      "Epoch 1/100\n",
      "7500/7500 [==============================] - 4s 539us/step - loss: 0.4088 - accuracy: 0.8327\n",
      "Epoch 2/100\n",
      "7500/7500 [==============================] - 1s 169us/step - loss: 0.3551 - accuracy: 0.8547\n",
      "Epoch 3/100\n",
      "7500/7500 [==============================] - 1s 178us/step - loss: 0.3488 - accuracy: 0.8577\n",
      "Epoch 4/100\n",
      "7500/7500 [==============================] - 1s 188us/step - loss: 0.3449 - accuracy: 0.8592\n",
      "Epoch 5/100\n",
      "7500/7500 [==============================] - 1s 184us/step - loss: 0.3427 - accuracy: 0.8588\n",
      "Epoch 6/100\n",
      "7500/7500 [==============================] - 1s 156us/step - loss: 0.3397 - accuracy: 0.8601\n",
      "Epoch 7/100\n",
      "7500/7500 [==============================] - 1s 155us/step - loss: 0.3378 - accuracy: 0.8601\n",
      "Epoch 8/100\n",
      "7500/7500 [==============================] - 1s 161us/step - loss: 0.3360 - accuracy: 0.8599\n",
      "Epoch 9/100\n",
      "7500/7500 [==============================] - 1s 162us/step - loss: 0.3335 - accuracy: 0.8629\n",
      "Epoch 10/100\n",
      "7500/7500 [==============================] - 1s 159us/step - loss: 0.3321 - accuracy: 0.8631\n",
      "Epoch 11/100\n",
      "7500/7500 [==============================] - 1s 161us/step - loss: 0.3298 - accuracy: 0.8640\n",
      "Epoch 12/100\n",
      "7500/7500 [==============================] - 1s 161us/step - loss: 0.3292 - accuracy: 0.8643\n",
      "Epoch 13/100\n",
      "7500/7500 [==============================] - 1s 160us/step - loss: 0.3279 - accuracy: 0.8648\n",
      "Epoch 14/100\n",
      "7500/7500 [==============================] - 1s 162us/step - loss: 0.3257 - accuracy: 0.8635\n",
      "Epoch 15/100\n",
      "7500/7500 [==============================] - 2s 212us/step - loss: 0.3233 - accuracy: 0.8645\n",
      "Epoch 16/100\n",
      "7500/7500 [==============================] - 1s 175us/step - loss: 0.3227 - accuracy: 0.8657\n",
      "Epoch 17/100\n",
      "7500/7500 [==============================] - 1s 170us/step - loss: 0.3202 - accuracy: 0.8677\n",
      "Epoch 18/100\n",
      "7500/7500 [==============================] - 1s 176us/step - loss: 0.3208 - accuracy: 0.8660\n",
      "Epoch 19/100\n",
      "7500/7500 [==============================] - 1s 186us/step - loss: 0.3191 - accuracy: 0.8703\n",
      "Epoch 20/100\n",
      "7500/7500 [==============================] - 1s 178us/step - loss: 0.3180 - accuracy: 0.8680\n",
      "Epoch 21/100\n",
      "7500/7500 [==============================] - 1s 175us/step - loss: 0.3174 - accuracy: 0.8671\n",
      "Epoch 22/100\n",
      "7500/7500 [==============================] - 2s 203us/step - loss: 0.3170 - accuracy: 0.8683\n",
      "Epoch 23/100\n",
      "7500/7500 [==============================] - 1s 180us/step - loss: 0.3153 - accuracy: 0.8677\n",
      "Epoch 24/100\n",
      "7500/7500 [==============================] - 1s 196us/step - loss: 0.3142 - accuracy: 0.8697\n",
      "Epoch 25/100\n",
      "7500/7500 [==============================] - 1s 176us/step - loss: 0.3141 - accuracy: 0.8687\n",
      "Epoch 26/100\n",
      "7500/7500 [==============================] - 1s 172us/step - loss: 0.3135 - accuracy: 0.8677\n",
      "Epoch 27/100\n",
      "7500/7500 [==============================] - 1s 175us/step - loss: 0.3119 - accuracy: 0.8720\n",
      "Epoch 28/100\n",
      "7500/7500 [==============================] - 1s 184us/step - loss: 0.3112 - accuracy: 0.8703\n",
      "Epoch 29/100\n",
      "7500/7500 [==============================] - 1s 187us/step - loss: 0.3102 - accuracy: 0.8684\n",
      "Epoch 30/100\n",
      "7500/7500 [==============================] - 1s 174us/step - loss: 0.3097 - accuracy: 0.8697\n",
      "Epoch 31/100\n",
      "7500/7500 [==============================] - 1s 197us/step - loss: 0.3092 - accuracy: 0.8681\n",
      "Epoch 32/100\n",
      "7500/7500 [==============================] - 1s 192us/step - loss: 0.3072 - accuracy: 0.8712\n",
      "Epoch 33/100\n",
      "7500/7500 [==============================] - 2s 201us/step - loss: 0.3078 - accuracy: 0.8725\n",
      "Epoch 34/100\n",
      "7500/7500 [==============================] - 2s 228us/step - loss: 0.3069 - accuracy: 0.8681\n",
      "Epoch 35/100\n",
      "7500/7500 [==============================] - 1s 173us/step - loss: 0.3055 - accuracy: 0.8703\n",
      "Epoch 36/100\n",
      "7500/7500 [==============================] - 1s 198us/step - loss: 0.3056 - accuracy: 0.8716\n",
      "Epoch 37/100\n",
      "7500/7500 [==============================] - 1s 171us/step - loss: 0.3040 - accuracy: 0.8725\n",
      "Epoch 38/100\n",
      "7500/7500 [==============================] - 1s 166us/step - loss: 0.3043 - accuracy: 0.8733\n",
      "Epoch 39/100\n",
      "7500/7500 [==============================] - 1s 165us/step - loss: 0.3025 - accuracy: 0.8724\n",
      "Epoch 40/100\n",
      "7500/7500 [==============================] - 1s 192us/step - loss: 0.3014 - accuracy: 0.8724\n",
      "Epoch 41/100\n",
      "7500/7500 [==============================] - 1s 197us/step - loss: 0.3017 - accuracy: 0.8747\n",
      "Epoch 42/100\n",
      "7500/7500 [==============================] - 2s 202us/step - loss: 0.3010 - accuracy: 0.8728\n",
      "Epoch 43/100\n",
      "7500/7500 [==============================] - 2s 205us/step - loss: 0.2994 - accuracy: 0.8737\n",
      "Epoch 44/100\n",
      "7500/7500 [==============================] - 1s 178us/step - loss: 0.2992 - accuracy: 0.8740\n",
      "Epoch 45/100\n",
      "7500/7500 [==============================] - 1s 168us/step - loss: 0.2980 - accuracy: 0.8757\n",
      "Epoch 46/100\n",
      "7500/7500 [==============================] - 1s 167us/step - loss: 0.2988 - accuracy: 0.8740\n",
      "Epoch 47/100\n",
      "7500/7500 [==============================] - 1s 169us/step - loss: 0.2973 - accuracy: 0.8751\n",
      "Epoch 48/100\n",
      "7500/7500 [==============================] - 1s 165us/step - loss: 0.2977 - accuracy: 0.8764\n",
      "Epoch 49/100\n",
      "7500/7500 [==============================] - 1s 167us/step - loss: 0.2965 - accuracy: 0.8725\n",
      "Epoch 50/100\n",
      "7500/7500 [==============================] - 1s 171us/step - loss: 0.2965 - accuracy: 0.8752\n",
      "Epoch 51/100\n",
      "7500/7500 [==============================] - 1s 168us/step - loss: 0.2952 - accuracy: 0.8788\n",
      "Epoch 52/100\n",
      "7500/7500 [==============================] - 1s 169us/step - loss: 0.2956 - accuracy: 0.8744\n",
      "Epoch 53/100\n",
      "7500/7500 [==============================] - 1s 170us/step - loss: 0.2956 - accuracy: 0.8757\n",
      "Epoch 54/100\n",
      "7500/7500 [==============================] - 1s 164us/step - loss: 0.2945 - accuracy: 0.8747\n",
      "Epoch 55/100\n",
      "7500/7500 [==============================] - 1s 165us/step - loss: 0.2928 - accuracy: 0.8776\n",
      "Epoch 56/100\n",
      "7500/7500 [==============================] - 1s 159us/step - loss: 0.2932 - accuracy: 0.8797\n",
      "Epoch 57/100\n",
      "7500/7500 [==============================] - 1s 157us/step - loss: 0.2926 - accuracy: 0.8768\n",
      "Epoch 58/100\n",
      "7500/7500 [==============================] - 1s 158us/step - loss: 0.2928 - accuracy: 0.8747\n",
      "Epoch 59/100\n",
      "7500/7500 [==============================] - 1s 161us/step - loss: 0.2921 - accuracy: 0.8765\n",
      "Epoch 60/100\n",
      "7500/7500 [==============================] - 1s 160us/step - loss: 0.2917 - accuracy: 0.8792\n",
      "Epoch 61/100\n",
      "7500/7500 [==============================] - 1s 159us/step - loss: 0.2909 - accuracy: 0.8773\n",
      "Epoch 62/100\n",
      "7500/7500 [==============================] - 1s 159us/step - loss: 0.2906 - accuracy: 0.8789\n",
      "Epoch 63/100\n",
      "7500/7500 [==============================] - 1s 160us/step - loss: 0.2898 - accuracy: 0.8779\n",
      "Epoch 64/100\n",
      "7500/7500 [==============================] - 1s 162us/step - loss: 0.2896 - accuracy: 0.8796\n",
      "Epoch 65/100\n",
      "7500/7500 [==============================] - 1s 160us/step - loss: 0.2890 - accuracy: 0.8801\n",
      "Epoch 66/100\n",
      "7500/7500 [==============================] - 1s 161us/step - loss: 0.2887 - accuracy: 0.8791\n",
      "Epoch 67/100\n",
      "7500/7500 [==============================] - 1s 164us/step - loss: 0.2892 - accuracy: 0.8784\n",
      "Epoch 68/100\n",
      "7500/7500 [==============================] - 1s 166us/step - loss: 0.2872 - accuracy: 0.8775\n",
      "Epoch 69/100\n",
      "7500/7500 [==============================] - 1s 167us/step - loss: 0.2874 - accuracy: 0.8793\n",
      "Epoch 70/100\n",
      "7500/7500 [==============================] - 1s 159us/step - loss: 0.2874 - accuracy: 0.8801\n",
      "Epoch 71/100\n",
      "7500/7500 [==============================] - 1s 156us/step - loss: 0.2869 - accuracy: 0.8799\n",
      "Epoch 72/100\n",
      "7500/7500 [==============================] - 1s 162us/step - loss: 0.2857 - accuracy: 0.8811\n",
      "Epoch 73/100\n",
      "7500/7500 [==============================] - 1s 161us/step - loss: 0.2862 - accuracy: 0.8801\n",
      "Epoch 74/100\n",
      "7500/7500 [==============================] - 1s 159us/step - loss: 0.2848 - accuracy: 0.8819\n",
      "Epoch 75/100\n",
      "7500/7500 [==============================] - 1s 159us/step - loss: 0.2852 - accuracy: 0.8813\n",
      "Epoch 76/100\n",
      "7500/7500 [==============================] - 1s 165us/step - loss: 0.2851 - accuracy: 0.8824\n",
      "Epoch 77/100\n",
      "7500/7500 [==============================] - 1s 161us/step - loss: 0.2842 - accuracy: 0.8827\n",
      "Epoch 78/100\n",
      "7500/7500 [==============================] - 1s 162us/step - loss: 0.2844 - accuracy: 0.8815\n",
      "Epoch 79/100\n",
      "7500/7500 [==============================] - 1s 158us/step - loss: 0.2826 - accuracy: 0.8808\n",
      "Epoch 80/100\n",
      "7500/7500 [==============================] - 1s 162us/step - loss: 0.2843 - accuracy: 0.8809\n",
      "Epoch 81/100\n",
      "7500/7500 [==============================] - 1s 160us/step - loss: 0.2826 - accuracy: 0.8823\n",
      "Epoch 82/100\n",
      "7500/7500 [==============================] - 1s 162us/step - loss: 0.2819 - accuracy: 0.8813\n",
      "Epoch 83/100\n",
      "7500/7500 [==============================] - 1s 157us/step - loss: 0.2816 - accuracy: 0.8848\n",
      "Epoch 84/100\n",
      "7500/7500 [==============================] - 1s 164us/step - loss: 0.2820 - accuracy: 0.8836\n",
      "Epoch 85/100\n",
      "7500/7500 [==============================] - 1s 163us/step - loss: 0.2807 - accuracy: 0.8843\n",
      "Epoch 86/100\n",
      "7500/7500 [==============================] - 1s 183us/step - loss: 0.2801 - accuracy: 0.8852\n",
      "Epoch 87/100\n",
      "7500/7500 [==============================] - 1s 166us/step - loss: 0.2806 - accuracy: 0.8823\n",
      "Epoch 88/100\n",
      "7500/7500 [==============================] - 1s 164us/step - loss: 0.2795 - accuracy: 0.8836\n",
      "Epoch 89/100\n",
      "7500/7500 [==============================] - 1s 160us/step - loss: 0.2802 - accuracy: 0.8820\n",
      "Epoch 90/100\n",
      "7500/7500 [==============================] - 1s 162us/step - loss: 0.2790 - accuracy: 0.8825\n",
      "Epoch 91/100\n",
      "7500/7500 [==============================] - 1s 165us/step - loss: 0.2784 - accuracy: 0.8829\n",
      "Epoch 92/100\n",
      "7500/7500 [==============================] - 1s 161us/step - loss: 0.2787 - accuracy: 0.8843\n",
      "Epoch 93/100\n",
      "7500/7500 [==============================] - 1s 160us/step - loss: 0.2781 - accuracy: 0.8827\n",
      "Epoch 94/100\n",
      "7500/7500 [==============================] - 1s 156us/step - loss: 0.2784 - accuracy: 0.8851\n",
      "Epoch 95/100\n",
      "7500/7500 [==============================] - 1s 159us/step - loss: 0.2770 - accuracy: 0.8848\n",
      "Epoch 96/100\n",
      "7500/7500 [==============================] - 1s 159us/step - loss: 0.2781 - accuracy: 0.8837\n",
      "Epoch 97/100\n",
      "7500/7500 [==============================] - 1s 157us/step - loss: 0.2768 - accuracy: 0.8841\n",
      "Epoch 98/100\n",
      "7500/7500 [==============================] - 1s 160us/step - loss: 0.2779 - accuracy: 0.8847\n",
      "Epoch 99/100\n",
      "7500/7500 [==============================] - 1s 171us/step - loss: 0.2761 - accuracy: 0.8831\n",
      "Epoch 100/100\n",
      "7500/7500 [==============================] - 1s 179us/step - loss: 0.2759 - accuracy: 0.8853\n"
     ]
    },
    {
     "data": {
      "text/plain": [
       "<keras.callbacks.callbacks.History at 0x211ab1037c8>"
      ]
     },
     "execution_count": 105,
     "metadata": {},
     "output_type": "execute_result"
    }
   ],
   "source": [
    "# There are two ways of initializing a neiral network:\n",
    "# 1. by defining the sequence of layers\n",
    "# 2. by defining the graph\n",
    "\n",
    "# In this problem, we will intialize it by defining the seqquence of layers\n",
    "\n",
    "# Step 2: Import libraries\n",
    "import keras\n",
    "from keras.models import Sequential\n",
    "from keras.layers import Dense\n",
    "\n",
    "# Step 3: Initialize\n",
    "classifier = Sequential()\n",
    "\n",
    "# Step 4: Add layers\n",
    "\n",
    "# Input layer (designated by input_dim = 11) and first hidden layer\n",
    "classifier.add(Dense(units = 19 , kernel_initializer = 'uniform', activation = 'relu', input_dim = 37))\n",
    "# second hidden layer\n",
    "classifier.add(Dense(units = 19 , kernel_initializer = 'uniform', activation = 'relu'))\n",
    "# output layer\n",
    "classifier.add(Dense(units = 1 , kernel_initializer = 'uniform', activation = 'sigmoid'))\n",
    "\n",
    "# Step 5: compile ann - apply stochastic gradient descent\n",
    "classifier.compile(optimizer = 'adam', loss = 'binary_crossentropy', metrics = ['accuracy'])\n",
    "\n",
    "# Step 6: Fit the model:\n",
    "classifier.fit(X_train,y_train, batch_size = 10, epochs = 100)"
   ]
  },
  {
   "cell_type": "code",
   "execution_count": 119,
   "metadata": {},
   "outputs": [
    {
     "name": "stdout",
     "output_type": "stream",
     "text": [
      "(37, 19)\n",
      "(19,)\n",
      "(19, 19)\n",
      "(19,)\n",
      "(19, 1)\n",
      "(1,)\n"
     ]
    }
   ],
   "source": [
    "# shape of weights\n",
    "for elements in classifier.get_weights():\n",
    "    print(elements.shape)"
   ]
  },
  {
   "cell_type": "code",
   "execution_count": 147,
   "metadata": {},
   "outputs": [],
   "source": [
    "# Step 7: Make Predictions\n",
    "y_pred = classifier.predict(X_test)\n",
    "# y_pred is probabolity --> convert it into class prediction to get y_pred_2 \n",
    "y_pred_2 = pd.DataFrame(y_pred).apply(lambda row: 1 if row[0]>0.5 else 0, axis = 1)"
   ]
  },
  {
   "cell_type": "code",
   "execution_count": 151,
   "metadata": {},
   "outputs": [
    {
     "name": "stdout",
     "output_type": "stream",
     "text": [
      "accuracy: 0.8448\n",
      "f1_score: 0.5580865603644646\n",
      "precision: 0.6786703601108033\n",
      "recall: 0.4738878143133462\n"
     ]
    }
   ],
   "source": [
    "# Step 8: Accuracy\n",
    "import sklearn.metrics as metrics\n",
    "print(f'accuracy: {metrics.accuracy_score(y_test, y_pred_2)}')\n",
    "print(f'f1_score: {metrics.f1_score(y_test, y_pred_2)}')\n",
    "print(f'precision: {metrics.precision_score(y_test, y_pred_2)}')\n",
    "print(f'recall: {metrics.recall_score(y_test, y_pred_2)}')"
   ]
  },
  {
   "cell_type": "code",
   "execution_count": null,
   "metadata": {},
   "outputs": [],
   "source": []
  },
  {
   "cell_type": "code",
   "execution_count": null,
   "metadata": {},
   "outputs": [],
   "source": []
  }
 ],
 "metadata": {
  "kernelspec": {
   "display_name": "Python 3",
   "language": "python",
   "name": "python3"
  },
  "language_info": {
   "codemirror_mode": {
    "name": "ipython",
    "version": 3
   },
   "file_extension": ".py",
   "mimetype": "text/x-python",
   "name": "python",
   "nbconvert_exporter": "python",
   "pygments_lexer": "ipython3",
   "version": "3.7.6"
  }
 },
 "nbformat": 4,
 "nbformat_minor": 4
}
