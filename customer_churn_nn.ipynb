{
 "cells": [
  {
   "cell_type": "code",
   "execution_count": 1,
   "metadata": {},
   "outputs": [],
   "source": [
    "import numpy as np\n",
    "import matplotlib.pyplot as plt\n",
    "import pandas as pd"
   ]
  },
  {
   "cell_type": "code",
   "execution_count": 2,
   "metadata": {},
   "outputs": [],
   "source": [
    "# Step 1: Import and Preprocessing\n",
    "# Importing the dataset\n",
    "dataset = pd.read_csv('data/Churn_Modelling.csv')\n",
    "X = dataset.iloc[:, 3:13]\n",
    "y = dataset.iloc[:, 13]"
   ]
  },
  {
   "cell_type": "code",
   "execution_count": 3,
   "metadata": {},
   "outputs": [
    {
     "data": {
      "text/html": [
       "<div>\n",
       "<style scoped>\n",
       "    .dataframe tbody tr th:only-of-type {\n",
       "        vertical-align: middle;\n",
       "    }\n",
       "\n",
       "    .dataframe tbody tr th {\n",
       "        vertical-align: top;\n",
       "    }\n",
       "\n",
       "    .dataframe thead th {\n",
       "        text-align: right;\n",
       "    }\n",
       "</style>\n",
       "<table border=\"1\" class=\"dataframe\">\n",
       "  <thead>\n",
       "    <tr style=\"text-align: right;\">\n",
       "      <th></th>\n",
       "      <th>CreditScore</th>\n",
       "      <th>Geography</th>\n",
       "      <th>Gender</th>\n",
       "      <th>Age</th>\n",
       "      <th>Tenure</th>\n",
       "      <th>Balance</th>\n",
       "      <th>NumOfProducts</th>\n",
       "      <th>HasCrCard</th>\n",
       "      <th>IsActiveMember</th>\n",
       "      <th>EstimatedSalary</th>\n",
       "    </tr>\n",
       "  </thead>\n",
       "  <tbody>\n",
       "    <tr>\n",
       "      <th>0</th>\n",
       "      <td>619</td>\n",
       "      <td>France</td>\n",
       "      <td>Female</td>\n",
       "      <td>42</td>\n",
       "      <td>2</td>\n",
       "      <td>0.00</td>\n",
       "      <td>1</td>\n",
       "      <td>1</td>\n",
       "      <td>1</td>\n",
       "      <td>101348.88</td>\n",
       "    </tr>\n",
       "    <tr>\n",
       "      <th>1</th>\n",
       "      <td>608</td>\n",
       "      <td>Spain</td>\n",
       "      <td>Female</td>\n",
       "      <td>41</td>\n",
       "      <td>1</td>\n",
       "      <td>83807.86</td>\n",
       "      <td>1</td>\n",
       "      <td>0</td>\n",
       "      <td>1</td>\n",
       "      <td>112542.58</td>\n",
       "    </tr>\n",
       "    <tr>\n",
       "      <th>2</th>\n",
       "      <td>502</td>\n",
       "      <td>France</td>\n",
       "      <td>Female</td>\n",
       "      <td>42</td>\n",
       "      <td>8</td>\n",
       "      <td>159660.80</td>\n",
       "      <td>3</td>\n",
       "      <td>1</td>\n",
       "      <td>0</td>\n",
       "      <td>113931.57</td>\n",
       "    </tr>\n",
       "    <tr>\n",
       "      <th>3</th>\n",
       "      <td>699</td>\n",
       "      <td>France</td>\n",
       "      <td>Female</td>\n",
       "      <td>39</td>\n",
       "      <td>1</td>\n",
       "      <td>0.00</td>\n",
       "      <td>2</td>\n",
       "      <td>0</td>\n",
       "      <td>0</td>\n",
       "      <td>93826.63</td>\n",
       "    </tr>\n",
       "    <tr>\n",
       "      <th>4</th>\n",
       "      <td>850</td>\n",
       "      <td>Spain</td>\n",
       "      <td>Female</td>\n",
       "      <td>43</td>\n",
       "      <td>2</td>\n",
       "      <td>125510.82</td>\n",
       "      <td>1</td>\n",
       "      <td>1</td>\n",
       "      <td>1</td>\n",
       "      <td>79084.10</td>\n",
       "    </tr>\n",
       "  </tbody>\n",
       "</table>\n",
       "</div>"
      ],
      "text/plain": [
       "   CreditScore Geography  Gender  Age  Tenure    Balance  NumOfProducts  \\\n",
       "0          619    France  Female   42       2       0.00              1   \n",
       "1          608     Spain  Female   41       1   83807.86              1   \n",
       "2          502    France  Female   42       8  159660.80              3   \n",
       "3          699    France  Female   39       1       0.00              2   \n",
       "4          850     Spain  Female   43       2  125510.82              1   \n",
       "\n",
       "   HasCrCard  IsActiveMember  EstimatedSalary  \n",
       "0          1               1        101348.88  \n",
       "1          0               1        112542.58  \n",
       "2          1               0        113931.57  \n",
       "3          0               0         93826.63  \n",
       "4          1               1         79084.10  "
      ]
     },
     "execution_count": 3,
     "metadata": {},
     "output_type": "execute_result"
    }
   ],
   "source": [
    "X.head()"
   ]
  },
  {
   "cell_type": "code",
   "execution_count": 4,
   "metadata": {},
   "outputs": [
    {
     "data": {
      "text/plain": [
       "CreditScore         460\n",
       "Geography             3\n",
       "Gender                2\n",
       "Age                  70\n",
       "Tenure               11\n",
       "Balance            6382\n",
       "NumOfProducts         4\n",
       "HasCrCard             2\n",
       "IsActiveMember        2\n",
       "EstimatedSalary    9999\n",
       "dtype: int64"
      ]
     },
     "execution_count": 4,
     "metadata": {},
     "output_type": "execute_result"
    }
   ],
   "source": [
    "X.nunique()"
   ]
  },
  {
   "cell_type": "code",
   "execution_count": 5,
   "metadata": {},
   "outputs": [
    {
     "data": {
      "text/plain": [
       "Index(['CreditScore', 'Geography', 'Gender', 'Age', 'Tenure', 'Balance',\n",
       "       'NumOfProducts', 'HasCrCard', 'IsActiveMember', 'EstimatedSalary'],\n",
       "      dtype='object')"
      ]
     },
     "execution_count": 5,
     "metadata": {},
     "output_type": "execute_result"
    }
   ],
   "source": [
    "X.columns"
   ]
  },
  {
   "cell_type": "code",
   "execution_count": 6,
   "metadata": {},
   "outputs": [],
   "source": [
    "one_hot_columns = [col for col in X.columns if col not in  ['CreditScore','Age','Balance', 'EstimatedSalary']]"
   ]
  },
  {
   "cell_type": "code",
   "execution_count": 7,
   "metadata": {},
   "outputs": [],
   "source": [
    "X = pd.get_dummies(X, columns = one_hot_columns)"
   ]
  },
  {
   "cell_type": "code",
   "execution_count": 8,
   "metadata": {},
   "outputs": [],
   "source": [
    "# Convert Ag in buckets\n",
    "X['Age'] = pd.cut(X['Age'], 10)"
   ]
  },
  {
   "cell_type": "code",
   "execution_count": 9,
   "metadata": {},
   "outputs": [],
   "source": [
    "X = pd.get_dummies(X,columns = ['Age'])"
   ]
  },
  {
   "cell_type": "code",
   "execution_count": 11,
   "metadata": {},
   "outputs": [],
   "source": [
    "from sklearn.preprocessing import StandardScaler\n",
    "scaler = StandardScaler()\n",
    "X = pd.DataFrame(scaler.fit_transform(X),columns = X.columns)"
   ]
  },
  {
   "cell_type": "code",
   "execution_count": 12,
   "metadata": {},
   "outputs": [],
   "source": [
    "# Feature Scaling\n",
    "from sklearn.model_selection import train_test_split\n",
    "X_train, X_test, y_train, y_test = train_test_split(X, y)"
   ]
  },
  {
   "cell_type": "code",
   "execution_count": 17,
   "metadata": {},
   "outputs": [
    {
     "name": "stdout",
     "output_type": "stream",
     "text": [
      "Epoch 1/10\n",
      "7500/7500 [==============================] - 2s 211us/step - loss: 0.4166 - accuracy: 0.8027\n",
      "Epoch 2/10\n",
      "7500/7500 [==============================] - 1s 165us/step - loss: 0.3735 - accuracy: 0.8523\n",
      "Epoch 3/10\n",
      "7500/7500 [==============================] - 1s 164us/step - loss: 0.3647 - accuracy: 0.8593\n",
      "Epoch 4/10\n",
      "7500/7500 [==============================] - 1s 168us/step - loss: 0.3596 - accuracy: 0.8616\n",
      "Epoch 5/10\n",
      "7500/7500 [==============================] - 1s 164us/step - loss: 0.3533 - accuracy: 0.8613\n",
      "Epoch 6/10\n",
      "7500/7500 [==============================] - 1s 167us/step - loss: 0.3480 - accuracy: 0.8640\n",
      "Epoch 7/10\n",
      "7500/7500 [==============================] - 1s 166us/step - loss: 0.3426 - accuracy: 0.8644\n",
      "Epoch 8/10\n",
      "7500/7500 [==============================] - 1s 171us/step - loss: 0.3365 - accuracy: 0.8659\n",
      "Epoch 9/10\n",
      "7500/7500 [==============================] - 1s 164us/step - loss: 0.3341 - accuracy: 0.8663\n",
      "Epoch 10/10\n",
      "7500/7500 [==============================] - 1s 164us/step - loss: 0.3303 - accuracy: 0.8681\n"
     ]
    },
    {
     "data": {
      "text/plain": [
       "<keras.callbacks.callbacks.History at 0x21adc4dba88>"
      ]
     },
     "execution_count": 17,
     "metadata": {},
     "output_type": "execute_result"
    }
   ],
   "source": [
    "# There are two ways of initializing a neiral network:\n",
    "# 1. by defining the sequence of layers\n",
    "# 2. by defining the graph\n",
    "\n",
    "# In this problem, we will intialize it by defining the seqquence of layers\n",
    "\n",
    "# Step 2: Import libraries\n",
    "import keras\n",
    "from keras.models import Sequential\n",
    "from keras.layers import Dense\n",
    "\n",
    "# Step 3: Initialize\n",
    "classifier = Sequential()\n",
    "\n",
    "# Step 4: Add layers\n",
    "\n",
    "# Input layer (designated by input_dim = 11) and first hidden layer\n",
    "classifier.add(Dense(units = 19 , kernel_initializer = 'uniform', activation = 'relu', input_dim = 37))\n",
    "# second hidden layer\n",
    "classifier.add(Dense(units = 19 , kernel_initializer = 'uniform', activation = 'relu'))\n",
    "# output layer\n",
    "classifier.add(Dense(units = 1 , kernel_initializer = 'uniform', activation = 'sigmoid'))\n",
    "\n",
    "# Step 5: compile ann - apply stochastic gradient descent\n",
    "classifier.compile(optimizer = 'adam', loss = 'binary_crossentropy', metrics = ['accuracy'])\n",
    "\n",
    "# Step 6: Fit the model:\n",
    "classifier.fit(X_train,y_train, batch_size = 10, epochs = 10)"
   ]
  },
  {
   "cell_type": "code",
   "execution_count": 14,
   "metadata": {},
   "outputs": [
    {
     "name": "stdout",
     "output_type": "stream",
     "text": [
      "(37, 19)\n",
      "(19,)\n",
      "(19, 19)\n",
      "(19,)\n",
      "(19, 1)\n",
      "(1,)\n"
     ]
    }
   ],
   "source": [
    "# shape of weights\n",
    "for elements in classifier.get_weights():\n",
    "    print(elements.shape)"
   ]
  },
  {
   "cell_type": "code",
   "execution_count": 15,
   "metadata": {},
   "outputs": [],
   "source": [
    "# Step 7: Make Predictions\n",
    "y_pred = classifier.predict(X_test)\n",
    "# y_pred is probabolity --> convert it into class prediction to get y_pred_2 \n",
    "y_pred_2 = pd.DataFrame(y_pred).apply(lambda row: 1 if row[0]>0.5 else 0, axis = 1)"
   ]
  },
  {
   "cell_type": "code",
   "execution_count": 16,
   "metadata": {},
   "outputs": [
    {
     "name": "stdout",
     "output_type": "stream",
     "text": [
      "accuracy: 0.8424\n",
      "f1_score: 0.5135802469135803\n",
      "precision: 0.7027027027027027\n",
      "recall: 0.4046692607003891\n"
     ]
    }
   ],
   "source": [
    "# Step 8: Accuracy\n",
    "import sklearn.metrics as metrics\n",
    "print(f'accuracy: {metrics.accuracy_score(y_test, y_pred_2)}')\n",
    "print(f'f1_score: {metrics.f1_score(y_test, y_pred_2)}')\n",
    "print(f'precision: {metrics.precision_score(y_test, y_pred_2)}')\n",
    "print(f'recall: {metrics.recall_score(y_test, y_pred_2)}')"
   ]
  },
  {
   "cell_type": "markdown",
   "metadata": {},
   "source": [
    "# Step 9: Evaluating the ANN:\n",
    "Judging our models's performance on one accuracy and one test set is not the best way to evaluate the model. Changing the test set will change the accuracy of our model slightly. To curb this issue, we will use k-fold cross validation.\n",
    "\n",
    "!['cv'](images/cv.png)\n",
    "\n",
    "### Cross validation steps:\n",
    "1. Train on k-1 folds\n",
    "2. Test on remaining one\n",
    "3. Take mean of all k accuracies\n",
    "4. Find standard deviation of all accuracies\n",
    "5. Based on accuracy and standard deviations, we can see which of the following cases our model satisfies:\n",
    "\n",
    "!['bias_variance'](images/bias_variance.JPG)\n",
    "\n",
    "### Implementation steps:\n",
    "\n",
    "1. cross_val_score is sklearn function\n",
    "2. create a keras wrapper for sklearn so that the keras classifier can be used in sklearn cross_val_score\n",
    "3. "
   ]
  },
  {
   "cell_type": "code",
   "execution_count": 18,
   "metadata": {},
   "outputs": [],
   "source": [
    "from keras.wrappers.scikit_learn import KerasClassifier\n",
    "from sklearn.model_selection import cross_val_score"
   ]
  },
  {
   "cell_type": "code",
   "execution_count": 26,
   "metadata": {},
   "outputs": [],
   "source": [
    "# defining the function to be passed to KerasClassifier to convert it to sklearn classifier\n",
    "# only define the nn architecture. training and testing will be done by cross_val_Score\n",
    "def nn_architecture():\n",
    "    #initialize\n",
    "    classifier = Sequential()\n",
    "    # add input and first hidden layer\n",
    "    classifier.add(Dense(units = 19, activation = 'relu', kernel_initializer= 'uniform' , input_dim =  37))\n",
    "    # add second hidden layer\n",
    "    classifier.add(Dense(units = 19, activation = 'relu', kernel_initializer= 'uniform' ))\n",
    "    # add output layer\n",
    "    classifier.add(Dense(units = 1, activation = 'sigmoid', kernel_initializer= 'uniform'))\n",
    "    # compile\n",
    "    classifier.compile(optimizer = 'adam', loss = 'binary_crossentropy', metrics = ['accuracy'])\n",
    "    return classifier"
   ]
  },
  {
   "cell_type": "code",
   "execution_count": 32,
   "metadata": {},
   "outputs": [],
   "source": [
    "classifier_2 = KerasClassifier(build_fn= nn_architecture, batch_size = 10, nb_epoch = 100)"
   ]
  },
  {
   "cell_type": "code",
   "execution_count": 35,
   "metadata": {},
   "outputs": [],
   "source": [
    "accuracies = cross_val_score(estimator = classifier_2,X = X_train, y =  y_train, cv = 10, n_jobs=-1)"
   ]
  },
  {
   "cell_type": "code",
   "execution_count": 39,
   "metadata": {},
   "outputs": [
    {
     "name": "stdout",
     "output_type": "stream",
     "text": [
      "accuracy = 85.01% +/- 1.08%\n"
     ]
    }
   ],
   "source": [
    "avg_accuracy = accuracies.mean()\n",
    "std_accuracy = accuracies.std()\n",
    "\n",
    "print(f'accuracy = {avg_accuracy*100:.2f}% +/- {std_accuracy*100:.2f}%')"
   ]
  },
  {
   "cell_type": "code",
   "execution_count": null,
   "metadata": {},
   "outputs": [],
   "source": []
  }
 ],
 "metadata": {
  "kernelspec": {
   "display_name": "Python 3",
   "language": "python",
   "name": "python3"
  },
  "language_info": {
   "codemirror_mode": {
    "name": "ipython",
    "version": 3
   },
   "file_extension": ".py",
   "mimetype": "text/x-python",
   "name": "python",
   "nbconvert_exporter": "python",
   "pygments_lexer": "ipython3",
   "version": "3.7.6"
  }
 },
 "nbformat": 4,
 "nbformat_minor": 4
}
