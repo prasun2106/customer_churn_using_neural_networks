{
 "cells": [
  {
   "cell_type": "code",
   "execution_count": 1,
   "metadata": {},
   "outputs": [],
   "source": [
    "import numpy as np\n",
    "import matplotlib.pyplot as plt\n",
    "import pandas as pd"
   ]
  },
  {
   "cell_type": "code",
   "execution_count": 2,
   "metadata": {},
   "outputs": [],
   "source": [
    "# Step 1: Import and Preprocessing\n",
    "# Importing the dataset\n",
    "dataset = pd.read_csv('data/Churn_Modelling.csv')\n",
    "X = dataset.iloc[:, 3:13]\n",
    "y = dataset.iloc[:, 13]"
   ]
  },
  {
   "cell_type": "code",
   "execution_count": 3,
   "metadata": {},
   "outputs": [
    {
     "data": {
      "text/html": [
       "<div>\n",
       "<style scoped>\n",
       "    .dataframe tbody tr th:only-of-type {\n",
       "        vertical-align: middle;\n",
       "    }\n",
       "\n",
       "    .dataframe tbody tr th {\n",
       "        vertical-align: top;\n",
       "    }\n",
       "\n",
       "    .dataframe thead th {\n",
       "        text-align: right;\n",
       "    }\n",
       "</style>\n",
       "<table border=\"1\" class=\"dataframe\">\n",
       "  <thead>\n",
       "    <tr style=\"text-align: right;\">\n",
       "      <th></th>\n",
       "      <th>CreditScore</th>\n",
       "      <th>Geography</th>\n",
       "      <th>Gender</th>\n",
       "      <th>Age</th>\n",
       "      <th>Tenure</th>\n",
       "      <th>Balance</th>\n",
       "      <th>NumOfProducts</th>\n",
       "      <th>HasCrCard</th>\n",
       "      <th>IsActiveMember</th>\n",
       "      <th>EstimatedSalary</th>\n",
       "    </tr>\n",
       "  </thead>\n",
       "  <tbody>\n",
       "    <tr>\n",
       "      <th>0</th>\n",
       "      <td>619</td>\n",
       "      <td>France</td>\n",
       "      <td>Female</td>\n",
       "      <td>42</td>\n",
       "      <td>2</td>\n",
       "      <td>0.00</td>\n",
       "      <td>1</td>\n",
       "      <td>1</td>\n",
       "      <td>1</td>\n",
       "      <td>101348.88</td>\n",
       "    </tr>\n",
       "    <tr>\n",
       "      <th>1</th>\n",
       "      <td>608</td>\n",
       "      <td>Spain</td>\n",
       "      <td>Female</td>\n",
       "      <td>41</td>\n",
       "      <td>1</td>\n",
       "      <td>83807.86</td>\n",
       "      <td>1</td>\n",
       "      <td>0</td>\n",
       "      <td>1</td>\n",
       "      <td>112542.58</td>\n",
       "    </tr>\n",
       "    <tr>\n",
       "      <th>2</th>\n",
       "      <td>502</td>\n",
       "      <td>France</td>\n",
       "      <td>Female</td>\n",
       "      <td>42</td>\n",
       "      <td>8</td>\n",
       "      <td>159660.80</td>\n",
       "      <td>3</td>\n",
       "      <td>1</td>\n",
       "      <td>0</td>\n",
       "      <td>113931.57</td>\n",
       "    </tr>\n",
       "    <tr>\n",
       "      <th>3</th>\n",
       "      <td>699</td>\n",
       "      <td>France</td>\n",
       "      <td>Female</td>\n",
       "      <td>39</td>\n",
       "      <td>1</td>\n",
       "      <td>0.00</td>\n",
       "      <td>2</td>\n",
       "      <td>0</td>\n",
       "      <td>0</td>\n",
       "      <td>93826.63</td>\n",
       "    </tr>\n",
       "    <tr>\n",
       "      <th>4</th>\n",
       "      <td>850</td>\n",
       "      <td>Spain</td>\n",
       "      <td>Female</td>\n",
       "      <td>43</td>\n",
       "      <td>2</td>\n",
       "      <td>125510.82</td>\n",
       "      <td>1</td>\n",
       "      <td>1</td>\n",
       "      <td>1</td>\n",
       "      <td>79084.10</td>\n",
       "    </tr>\n",
       "  </tbody>\n",
       "</table>\n",
       "</div>"
      ],
      "text/plain": [
       "   CreditScore Geography  Gender  Age  Tenure    Balance  NumOfProducts  \\\n",
       "0          619    France  Female   42       2       0.00              1   \n",
       "1          608     Spain  Female   41       1   83807.86              1   \n",
       "2          502    France  Female   42       8  159660.80              3   \n",
       "3          699    France  Female   39       1       0.00              2   \n",
       "4          850     Spain  Female   43       2  125510.82              1   \n",
       "\n",
       "   HasCrCard  IsActiveMember  EstimatedSalary  \n",
       "0          1               1        101348.88  \n",
       "1          0               1        112542.58  \n",
       "2          1               0        113931.57  \n",
       "3          0               0         93826.63  \n",
       "4          1               1         79084.10  "
      ]
     },
     "execution_count": 3,
     "metadata": {},
     "output_type": "execute_result"
    }
   ],
   "source": [
    "X.head()"
   ]
  },
  {
   "cell_type": "code",
   "execution_count": 4,
   "metadata": {},
   "outputs": [
    {
     "data": {
      "text/plain": [
       "CreditScore         460\n",
       "Geography             3\n",
       "Gender                2\n",
       "Age                  70\n",
       "Tenure               11\n",
       "Balance            6382\n",
       "NumOfProducts         4\n",
       "HasCrCard             2\n",
       "IsActiveMember        2\n",
       "EstimatedSalary    9999\n",
       "dtype: int64"
      ]
     },
     "execution_count": 4,
     "metadata": {},
     "output_type": "execute_result"
    }
   ],
   "source": [
    "X.nunique()"
   ]
  },
  {
   "cell_type": "code",
   "execution_count": 5,
   "metadata": {},
   "outputs": [
    {
     "data": {
      "text/plain": [
       "Index(['CreditScore', 'Geography', 'Gender', 'Age', 'Tenure', 'Balance',\n",
       "       'NumOfProducts', 'HasCrCard', 'IsActiveMember', 'EstimatedSalary'],\n",
       "      dtype='object')"
      ]
     },
     "execution_count": 5,
     "metadata": {},
     "output_type": "execute_result"
    }
   ],
   "source": [
    "X.columns"
   ]
  },
  {
   "cell_type": "code",
   "execution_count": 6,
   "metadata": {},
   "outputs": [],
   "source": [
    "one_hot_columns = [col for col in X.columns if col not in  ['CreditScore','Age','Balance', 'EstimatedSalary']]"
   ]
  },
  {
   "cell_type": "code",
   "execution_count": 7,
   "metadata": {},
   "outputs": [],
   "source": [
    "X = pd.get_dummies(X, columns = one_hot_columns)"
   ]
  },
  {
   "cell_type": "code",
   "execution_count": 8,
   "metadata": {},
   "outputs": [],
   "source": [
    "# Convert Ag in buckets\n",
    "X['Age'] = pd.cut(X['Age'], 10)"
   ]
  },
  {
   "cell_type": "code",
   "execution_count": 9,
   "metadata": {},
   "outputs": [],
   "source": [
    "X = pd.get_dummies(X,columns = ['Age'])"
   ]
  },
  {
   "cell_type": "code",
   "execution_count": 10,
   "metadata": {},
   "outputs": [],
   "source": [
    "from sklearn.preprocessing import StandardScaler\n",
    "scaler = StandardScaler()\n",
    "X = pd.DataFrame(scaler.fit_transform(X),columns = X.columns)"
   ]
  },
  {
   "cell_type": "code",
   "execution_count": 11,
   "metadata": {},
   "outputs": [],
   "source": [
    "# Feature Scaling\n",
    "from sklearn.model_selection import train_test_split\n",
    "X_train, X_test, y_train, y_test = train_test_split(X, y)"
   ]
  },
  {
   "cell_type": "code",
   "execution_count": 26,
   "metadata": {},
   "outputs": [
    {
     "name": "stdout",
     "output_type": "stream",
     "text": [
      "Epoch 1/10\n",
      "7500/7500 [==============================] - 2s 263us/step - loss: 0.4189 - accuracy: 0.8003\n",
      "Epoch 2/10\n",
      "7500/7500 [==============================] - 1s 199us/step - loss: 0.3759 - accuracy: 0.8479\n",
      "Epoch 3/10\n",
      "7500/7500 [==============================] - 2s 203us/step - loss: 0.3680 - accuracy: 0.8556\n",
      "Epoch 4/10\n",
      "7500/7500 [==============================] - 1s 197us/step - loss: 0.3618 - accuracy: 0.8588\n",
      "Epoch 5/10\n",
      "7500/7500 [==============================] - 1s 196us/step - loss: 0.3575 - accuracy: 0.8605\n",
      "Epoch 6/10\n",
      "7500/7500 [==============================] - 2s 223us/step - loss: 0.3535 - accuracy: 0.8612\n",
      "Epoch 7/10\n",
      "7500/7500 [==============================] - 2s 219us/step - loss: 0.3497 - accuracy: 0.8612\n",
      "Epoch 8/10\n",
      "7500/7500 [==============================] - 2s 217us/step - loss: 0.3465 - accuracy: 0.8632\n",
      "Epoch 9/10\n",
      "7500/7500 [==============================] - 1s 198us/step - loss: 0.3439 - accuracy: 0.8644\n",
      "Epoch 10/10\n",
      "7500/7500 [==============================] - 1s 192us/step - loss: 0.3407 - accuracy: 0.8653\n"
     ]
    },
    {
     "data": {
      "text/plain": [
       "<keras.callbacks.callbacks.History at 0x23b0a6e6ec8>"
      ]
     },
     "execution_count": 26,
     "metadata": {},
     "output_type": "execute_result"
    }
   ],
   "source": [
    "# There are two ways of initializing a neiral network:\n",
    "# 1. by defining the sequence of layers\n",
    "# 2. by defining the graph\n",
    "\n",
    "# In this problem, we will intialize it by defining the seqquence of layers\n",
    "\n",
    "# Step 2: Import libraries\n",
    "import keras\n",
    "from keras.models import Sequential\n",
    "from keras.layers import Dense\n",
    "\n",
    "# Step 3: Initialize\n",
    "classifier_initial = Sequential()\n",
    "\n",
    "# Step 4: Add layers\n",
    "\n",
    "# Input layer (designated by input_dim = 11) and first hidden layer\n",
    "classifier_initial.add(Dense(units = 19 , kernel_initializer = 'uniform', activation = 'relu', input_dim = 37))\n",
    "# second hidden layer\n",
    "classifier_initial.add(Dense(units = 19 , kernel_initializer = 'uniform', activation = 'relu'))\n",
    "# output layer\n",
    "classifier_initial.add(Dense(units = 1 , kernel_initializer = 'uniform', activation = 'sigmoid'))\n",
    "\n",
    "# Step 5: compile ann - apply stochastic gradient descent\n",
    "classifier_initial.compile(optimizer = 'adam', loss = 'binary_crossentropy', metrics = ['accuracy'])\n",
    "\n",
    "# Step 6: Fit the model:\n",
    "classifier_initial.fit(X_train,y_train, batch_size = 10, epochs = 10)"
   ]
  },
  {
   "cell_type": "code",
   "execution_count": 27,
   "metadata": {},
   "outputs": [
    {
     "name": "stdout",
     "output_type": "stream",
     "text": [
      "(37, 19)\n",
      "(19,)\n",
      "(19, 19)\n",
      "(19,)\n",
      "(19, 1)\n",
      "(1,)\n"
     ]
    }
   ],
   "source": [
    "# shape of weights\n",
    "for elements in classifier_initial.get_weights():\n",
    "    print(elements.shape)"
   ]
  },
  {
   "cell_type": "code",
   "execution_count": 28,
   "metadata": {},
   "outputs": [],
   "source": [
    "# Step 7: Make Predictions\n",
    "y_pred = classifier_initial.predict(X_test)\n",
    "# y_pred is probabolity --> convert it into class prediction to get y_pred_2 \n",
    "y_pred_2 = pd.DataFrame(y_pred).apply(lambda row: 1 if row[0]>0.5 else 0, axis = 1)"
   ]
  },
  {
   "cell_type": "code",
   "execution_count": 29,
   "metadata": {},
   "outputs": [
    {
     "name": "stdout",
     "output_type": "stream",
     "text": [
      "accuracy: 0.8436\n",
      "f1_score: 0.535077288941736\n",
      "precision: 0.677710843373494\n",
      "recall: 0.44204322200392926\n"
     ]
    }
   ],
   "source": [
    "# Step 8: Accuracy\n",
    "import sklearn.metrics as metrics\n",
    "print(f'accuracy: {metrics.accuracy_score(y_test, y_pred_2)}')\n",
    "print(f'f1_score: {metrics.f1_score(y_test, y_pred_2)}')\n",
    "print(f'precision: {metrics.precision_score(y_test, y_pred_2)}')\n",
    "print(f'recall: {metrics.recall_score(y_test, y_pred_2)}')"
   ]
  },
  {
   "cell_type": "markdown",
   "metadata": {},
   "source": [
    "# Step 9: Evaluating the ANN:\n",
    "Judging our models's performance on one accuracy and one test set is not the best way to evaluate the model. Changing the test set will change the accuracy of our model slightly. To curb this issue, we will use k-fold cross validation.\n",
    "\n",
    "!['cv'](images/cv.png)\n",
    "\n",
    "### Cross validation steps:\n",
    "1. Train on k-1 folds\n",
    "2. Test on remaining one\n",
    "3. Take mean of all k accuracies\n",
    "4. Find standard deviation of all accuracies\n",
    "5. Based on accuracy and standard deviations, we can see which of the following cases our model satisfies:\n",
    "\n",
    "!['bias_variance'](images/bias_variance.JPG)\n",
    "\n",
    "### Implementation steps:\n",
    "\n",
    "1. cross_val_score is sklearn function\n",
    "2. create a keras wrapper for sklearn so that the keras classifier can be used in sklearn cross_val_score\n",
    "3. "
   ]
  },
  {
   "cell_type": "code",
   "execution_count": 16,
   "metadata": {},
   "outputs": [],
   "source": [
    "from keras.wrappers.scikit_learn import KerasClassifier\n",
    "from sklearn.model_selection import cross_val_score"
   ]
  },
  {
   "cell_type": "code",
   "execution_count": 17,
   "metadata": {},
   "outputs": [],
   "source": [
    "# defining the function to be passed to KerasClassifier to convert it to sklearn classifier\n",
    "# only define the nn architecture. training and testing will be done by cross_val_Score\n",
    "def nn_architecture():\n",
    "    #initialize\n",
    "    classifier = Sequential()\n",
    "    # add input and first hidden layer\n",
    "    classifier.add(Dense(units = 19, activation = 'relu', kernel_initializer= 'uniform' , input_dim =  37))\n",
    "    # add second hidden layer\n",
    "    classifier.add(Dense(units = 19, activation = 'relu', kernel_initializer= 'uniform' ))\n",
    "    # add output layer\n",
    "    classifier.add(Dense(units = 1, activation = 'sigmoid', kernel_initializer= 'uniform'))\n",
    "    # compile\n",
    "    classifier.compile(optimizer = 'adam', loss = 'binary_crossentropy', metrics = ['accuracy'])\n",
    "    return classifier"
   ]
  },
  {
   "cell_type": "code",
   "execution_count": 18,
   "metadata": {},
   "outputs": [],
   "source": [
    "classifier_2 = KerasClassifier(build_fn= nn_architecture, batch_size = 10, nb_epoch = 100)"
   ]
  },
  {
   "cell_type": "code",
   "execution_count": 19,
   "metadata": {},
   "outputs": [],
   "source": [
    "accuracies = cross_val_score(estimator = classifier_2,X = X_train, y =  y_train, cv = 10, n_jobs=-1)"
   ]
  },
  {
   "cell_type": "code",
   "execution_count": 20,
   "metadata": {},
   "outputs": [
    {
     "name": "stdout",
     "output_type": "stream",
     "text": [
      "accuracy = 84.77% +/- 1.35%\n"
     ]
    }
   ],
   "source": [
    "avg_accuracy = accuracies.mean()\n",
    "std_accuracy = accuracies.std()\n",
    "\n",
    "print(f'accuracy = {avg_accuracy*100:.2f}% +/- {std_accuracy*100:.2f}%')"
   ]
  },
  {
   "cell_type": "markdown",
   "metadata": {},
   "source": [
    "# Step 10: Improving Accuracy\n",
    "1. Dropout Regularisation\n",
    "2. Hyper parametric tuning"
   ]
  },
  {
   "cell_type": "code",
   "execution_count": 39,
   "metadata": {},
   "outputs": [
    {
     "name": "stdout",
     "output_type": "stream",
     "text": [
      "Epoch 1/1\n",
      "6750/6750 [==============================] - 2s 269us/step - loss: 0.4298 - accuracy: 0.7961\n",
      "750/750 [==============================] - 0s 155us/step\n",
      "Epoch 1/1\n",
      "6750/6750 [==============================] - 2s 289us/step - loss: 0.4209 - accuracy: 0.8281\n",
      "750/750 [==============================] - 0s 165us/step\n",
      "Epoch 1/1\n",
      "6750/6750 [==============================] - 2s 296us/step - loss: 0.4269 - accuracy: 0.7987\n",
      "750/750 [==============================] - 0s 221us/step\n",
      "Epoch 1/1\n",
      "6750/6750 [==============================] - 2s 273us/step - loss: 0.4335 - accuracy: 0.7973\n",
      "750/750 [==============================] - 0s 160us/step\n",
      "Epoch 1/1\n",
      "6750/6750 [==============================] - 2s 238us/step - loss: 0.4306 - accuracy: 0.8024\n",
      "750/750 [==============================] - 0s 157us/step\n",
      "Epoch 1/1\n",
      "6750/6750 [==============================] - 2s 226us/step - loss: 0.4274 - accuracy: 0.8010\n",
      "750/750 [==============================] - 0s 148us/step\n",
      "Epoch 1/1\n",
      "6750/6750 [==============================] - 1s 220us/step - loss: 0.4198 - accuracy: 0.8204\n",
      "750/750 [==============================] - 0s 144us/step\n",
      "Epoch 1/1\n",
      "6750/6750 [==============================] - 2s 257us/step - loss: 0.4229 - accuracy: 0.8093\n",
      "750/750 [==============================] - 0s 153us/step\n",
      "Epoch 1/1\n",
      "6750/6750 [==============================] - 2s 245us/step - loss: 0.4319 - accuracy: 0.7959\n",
      "750/750 [==============================] - 0s 209us/step\n",
      "Epoch 1/1\n",
      "6750/6750 [==============================] - 2s 227us/step - loss: 0.4305 - accuracy: 0.7964\n",
      "750/750 [==============================] - 0s 145us/step\n"
     ]
    }
   ],
   "source": [
    "from keras.layers import Dropout\n",
    "#nn architecture with dropouts\n",
    "def nn_architecture_2():\n",
    "    classifier = Sequential()\n",
    "    # add layers with dropout regularization\n",
    "    classifier.add(Dense(units = 19, activation = 'relu', kernel_initializer = 'uniform', input_dim = 37))\n",
    "    classifier.add(Dropout(rate = 0.1))\n",
    "    classifier.add(Dense(units = 19, activation = 'relu', kernel_initializer = 'uniform'))\n",
    "    classifier.add(Dropout(rate = 0.1))\n",
    "    classifier.add(Dense(units = 1, activation = 'sigmoid', kernel_initializer = 'uniform'))\n",
    "\n",
    "    # compile\n",
    "    classifier.compile(optimizer = 'adam', loss = 'binary_crossentropy', metrics = ['accuracy'])\n",
    "    \n",
    "    return classifier\n",
    "# cross validation\n",
    "classifier_wrapper = KerasClassifier(build_fn = nn_architecture_2, batch_size = 10, nb_epoch = 100)\n",
    "accuracies_dropout = cross_val_score(estimator=classifier_wrapper, X = X_train, y = y_train, cv = 10)"
   ]
  },
  {
   "cell_type": "code",
   "execution_count": null,
   "metadata": {},
   "outputs": [],
   "source": []
  },
  {
   "cell_type": "code",
   "execution_count": 40,
   "metadata": {},
   "outputs": [
    {
     "name": "stdout",
     "output_type": "stream",
     "text": [
      "test set initital accuracy: 0.8436\n",
      "cross validation accuracy: 0.8477333307266235\n",
      "training set accuracy after dropout regularisation: 0.8322666704654693\n"
     ]
    }
   ],
   "source": [
    "# print(f'training set initital accuracy: {metrics.accuracy_score(y_train, classifier_initial(X_train))}')\n",
    "print(f'test set initital accuracy: {metrics.accuracy_score(y_test, y_pred_2)}')\n",
    "print(f'cross validation accuracy: {avg_accuracy}')\n",
    "print(f'training set accuracy after dropout regularisation: {accuracies_dropout.mean()}')"
   ]
  },
  {
   "cell_type": "code",
   "execution_count": 41,
   "metadata": {},
   "outputs": [
    {
     "data": {
      "text/plain": [
       "0.8477333307266235"
      ]
     },
     "execution_count": 41,
     "metadata": {},
     "output_type": "execute_result"
    }
   ],
   "source": [
    "accuracies.mean()"
   ]
  },
  {
   "cell_type": "markdown",
   "metadata": {},
   "source": [
    "### Hyperparametric tuning"
   ]
  },
  {
   "cell_type": "code",
   "execution_count": 55,
   "metadata": {},
   "outputs": [],
   "source": [
    "def nn_architecture_3(optimizer):\n",
    "    classifier = Sequential()\n",
    "    # add layers with dropout regularization\n",
    "    classifier.add(Dense(units = 19, activation = 'relu', kernel_initializer = 'uniform', input_dim = 37))\n",
    "    classifier.add(Dropout(rate = 0.1))\n",
    "    classifier.add(Dense(units = 19, activation = 'relu', kernel_initializer = 'uniform'))\n",
    "    classifier.add(Dropout(rate = 0.1))\n",
    "    classifier.add(Dense(units = 1, activation = 'sigmoid', kernel_initializer = 'uniform'))\n",
    "\n",
    "    # compile\n",
    "    classifier.compile(optimizer = optimizer, loss = 'binary_crossentropy', metrics = ['accuracy'])\n",
    "    \n",
    "    return classifier"
   ]
  },
  {
   "cell_type": "code",
   "execution_count": 59,
   "metadata": {},
   "outputs": [],
   "source": [
    "from sklearn.model_selection import GridSearchCV\n",
    "classifier = KerasClassifier(build_fn=nn_architecture_3) #dont add batch_size and nb_epochs as we will find them using grid_search\n",
    "parameters = {'batch_size': [25,32],\n",
    "             'nb_epoch':[100,500],\n",
    "             'optimizer':['adam','rmsprop']}"
   ]
  },
  {
   "cell_type": "code",
   "execution_count": 60,
   "metadata": {},
   "outputs": [],
   "source": [
    "grid_search = GridSearchCV(estimator= classifier, param_grid= parameters, \n",
    "                          scoring = 'accuracy',\n",
    "                          cv = 10)"
   ]
  },
  {
   "cell_type": "code",
   "execution_count": 61,
   "metadata": {
    "collapsed": true,
    "jupyter": {
     "outputs_hidden": true
    }
   },
   "outputs": [
    {
     "name": "stdout",
     "output_type": "stream",
     "text": [
      "Epoch 1/1\n",
      "6750/6750 [==============================] - 1s 155us/step - loss: 0.4750 - accuracy: 0.7942\n",
      "Epoch 1/1\n",
      "6750/6750 [==============================] - 1s 134us/step - loss: 0.4835 - accuracy: 0.8030\n",
      "Epoch 1/1\n",
      "6750/6750 [==============================] - 1s 126us/step - loss: 0.4626 - accuracy: 0.8117\n",
      "Epoch 1/1\n",
      "6750/6750 [==============================] - 1s 131us/step - loss: 0.4729 - accuracy: 0.7933\n",
      "Epoch 1/1\n",
      "6750/6750 [==============================] - 1s 121us/step - loss: 0.4718 - accuracy: 0.7963\n",
      "Epoch 1/1\n",
      "6750/6750 [==============================] - 1s 126us/step - loss: 0.4781 - accuracy: 0.7919\n",
      "Epoch 1/1\n",
      "6750/6750 [==============================] - 1s 124us/step - loss: 0.4778 - accuracy: 0.8101\n",
      "Epoch 1/1\n",
      "6750/6750 [==============================] - 1s 135us/step - loss: 0.4594 - accuracy: 0.8079\n",
      "Epoch 1/1\n",
      "6750/6750 [==============================] - 1s 147us/step - loss: 0.4688 - accuracy: 0.8120\n",
      "Epoch 1/1\n",
      "6750/6750 [==============================] - 1s 143us/step - loss: 0.4674 - accuracy: 0.7938\n",
      "Epoch 1/1\n",
      "6750/6750 [==============================] - 1s 141us/step - loss: 0.4786 - accuracy: 0.7944\n",
      "Epoch 1/1\n",
      "6750/6750 [==============================] - 1s 151us/step - loss: 0.4666 - accuracy: 0.7993\n",
      "Epoch 1/1\n",
      "6750/6750 [==============================] - 1s 144us/step - loss: 0.4725 - accuracy: 0.7994\n",
      "Epoch 1/1\n",
      "6750/6750 [==============================] - 1s 135us/step - loss: 0.4653 - accuracy: 0.7942\n",
      "Epoch 1/1\n",
      "6750/6750 [==============================] - 1s 135us/step - loss: 0.4559 - accuracy: 0.8084\n",
      "Epoch 1/1\n",
      "6750/6750 [==============================] - 1s 156us/step - loss: 0.4544 - accuracy: 0.7982\n",
      "Epoch 1/1\n",
      "6750/6750 [==============================] - 1s 139us/step - loss: 0.4616 - accuracy: 0.8059\n",
      "Epoch 1/1\n",
      "6750/6750 [==============================] - ETA: 0s - loss: 0.4762 - accuracy: 0.79 - 2s 244us/step - loss: 0.4737 - accuracy: 0.7961\n",
      "Epoch 1/1\n",
      "6750/6750 [==============================] - 1s 159us/step - loss: 0.4698 - accuracy: 0.7961\n",
      "Epoch 1/1\n",
      "6750/6750 [==============================] - 1s 156us/step - loss: 0.4705 - accuracy: 0.8012\n",
      "Epoch 1/1\n",
      "6750/6750 [==============================] - 1s 176us/step - loss: 0.4691 - accuracy: 0.7948\n",
      "Epoch 1/1\n",
      "6750/6750 [==============================] - 1s 144us/step - loss: 0.4747 - accuracy: 0.7944\n",
      "Epoch 1/1\n",
      "6750/6750 [==============================] - 1s 153us/step - loss: 0.4641 - accuracy: 0.7967\n",
      "Epoch 1/1\n",
      "6750/6750 [==============================] - 1s 151us/step - loss: 0.4770 - accuracy: 0.7935\n",
      "Epoch 1/1\n",
      "6750/6750 [==============================] - 1s 157us/step - loss: 0.4709 - accuracy: 0.7973\n",
      "Epoch 1/1\n",
      "6750/6750 [==============================] - 1s 152us/step - loss: 0.4688 - accuracy: 0.7948\n",
      "Epoch 1/1\n",
      "6750/6750 [==============================] - 1s 164us/step - loss: 0.4798 - accuracy: 0.7944\n",
      "Epoch 1/1\n",
      "6750/6750 [==============================] - 1s 150us/step - loss: 0.4838 - accuracy: 0.8150\n",
      "Epoch 1/1\n",
      "6750/6750 [==============================] - 1s 174us/step - loss: 0.4671 - accuracy: 0.8167\n",
      "Epoch 1/1\n",
      "6750/6750 [==============================] - 1s 146us/step - loss: 0.4923 - accuracy: 0.7908\n",
      "Epoch 1/1\n",
      "6750/6750 [==============================] - 1s 139us/step - loss: 0.4719 - accuracy: 0.8010\n",
      "Epoch 1/1\n",
      "6750/6750 [==============================] - 1s 136us/step - loss: 0.4618 - accuracy: 0.7945\n",
      "Epoch 1/1\n",
      "6750/6750 [==============================] - 1s 128us/step - loss: 0.4684 - accuracy: 0.7972\n",
      "Epoch 1/1\n",
      "6750/6750 [==============================] - 1s 131us/step - loss: 0.4687 - accuracy: 0.7939\n",
      "Epoch 1/1\n",
      "6750/6750 [==============================] - 1s 142us/step - loss: 0.4773 - accuracy: 0.7969\n",
      "Epoch 1/1\n",
      "6750/6750 [==============================] - 1s 155us/step - loss: 0.4716 - accuracy: 0.7927\n",
      "Epoch 1/1\n",
      "6750/6750 [==============================] - 1s 138us/step - loss: 0.4681 - accuracy: 0.7954\n",
      "Epoch 1/1\n",
      "6750/6750 [==============================] - 1s 140us/step - loss: 0.4587 - accuracy: 0.8043\n",
      "Epoch 1/1\n",
      "6750/6750 [==============================] - 1s 139us/step - loss: 0.4663 - accuracy: 0.7950\n",
      "Epoch 1/1\n",
      "6750/6750 [==============================] - 1s 145us/step - loss: 0.4716 - accuracy: 0.7997\n",
      "Epoch 1/1\n",
      "6750/6750 [==============================] - 1s 139us/step - loss: 0.4988 - accuracy: 0.7923\n",
      "Epoch 1/1\n",
      "6750/6750 [==============================] - 1s 123us/step - loss: 0.4846 - accuracy: 0.7996\n",
      "Epoch 1/1\n",
      "6750/6750 [==============================] - 1s 130us/step - loss: 0.4789 - accuracy: 0.7979\n",
      "Epoch 1/1\n",
      "6750/6750 [==============================] - 1s 139us/step - loss: 0.4982 - accuracy: 0.8036\n",
      "Epoch 1/1\n",
      "6750/6750 [==============================] - 1s 130us/step - loss: 0.4935 - accuracy: 0.7961\n",
      "Epoch 1/1\n",
      "6750/6750 [==============================] - 1s 131us/step - loss: 0.4936 - accuracy: 0.7935\n",
      "Epoch 1/1\n",
      "6750/6750 [==============================] - 1s 119us/step - loss: 0.4973 - accuracy: 0.7963\n",
      "Epoch 1/1\n",
      "6750/6750 [==============================] - 1s 118us/step - loss: 0.5092 - accuracy: 0.7923\n",
      "Epoch 1/1\n",
      "6750/6750 [==============================] - 1s 123us/step - loss: 0.4956 - accuracy: 0.7959\n",
      "Epoch 1/1\n",
      "6750/6750 [==============================] - 1s 123us/step - loss: 0.4946 - accuracy: 0.7916\n",
      "Epoch 1/1\n",
      "6750/6750 [==============================] - 1s 112us/step - loss: 0.4928 - accuracy: 0.7935\n",
      "Epoch 1/1\n",
      "6750/6750 [==============================] - 1s 119us/step - loss: 0.4901 - accuracy: 0.7951\n",
      "Epoch 1/1\n",
      "6750/6750 [==============================] - 1s 143us/step - loss: 0.5014 - accuracy: 0.7975\n",
      "Epoch 1/1\n",
      "6750/6750 [==============================] - 1s 122us/step - loss: 0.5146 - accuracy: 0.7932\n",
      "Epoch 1/1\n",
      "6750/6750 [==============================] - 1s 150us/step - loss: 0.4776 - accuracy: 0.7973\n",
      "Epoch 1/1\n",
      "6750/6750 [==============================] - 1s 156us/step - loss: 0.4855 - accuracy: 0.7982\n",
      "Epoch 1/1\n",
      "6750/6750 [==============================] - 1s 148us/step - loss: 0.5016 - accuracy: 0.7939\n",
      "Epoch 1/1\n",
      "6750/6750 [==============================] - 1s 123us/step - loss: 0.4908 - accuracy: 0.7951\n",
      "Epoch 1/1\n",
      "6750/6750 [==============================] - 1s 116us/step - loss: 0.4865 - accuracy: 0.7956\n",
      "Epoch 1/1\n",
      "6750/6750 [==============================] - 1s 118us/step - loss: 0.4916 - accuracy: 0.8039\n",
      "Epoch 1/1\n",
      "6750/6750 [==============================] - 1s 134us/step - loss: 0.4924 - accuracy: 0.7935\n",
      "Epoch 1/1\n",
      "6750/6750 [==============================] - 1s 154us/step - loss: 0.5020 - accuracy: 0.8046\n",
      "Epoch 1/1\n",
      "6750/6750 [==============================] - 1s 164us/step - loss: 0.4975 - accuracy: 0.7961\n",
      "Epoch 1/1\n",
      "6750/6750 [==============================] - 1s 131us/step - loss: 0.4914 - accuracy: 0.7941\n",
      "Epoch 1/1\n",
      "6750/6750 [==============================] - 1s 132us/step - loss: 0.4957 - accuracy: 0.7957\n",
      "Epoch 1/1\n",
      "6750/6750 [==============================] - 1s 133us/step - loss: 0.4896 - accuracy: 0.7935\n",
      "Epoch 1/1\n",
      "6750/6750 [==============================] - 1s 164us/step - loss: 0.4903 - accuracy: 0.7956\n",
      "Epoch 1/1\n",
      "6750/6750 [==============================] - 1s 109us/step - loss: 0.4906 - accuracy: 0.7973\n",
      "Epoch 1/1\n",
      "6750/6750 [==============================] - 1s 116us/step - loss: 0.4925 - accuracy: 0.7961\n",
      "Epoch 1/1\n",
      "6750/6750 [==============================] - 1s 126us/step - loss: 0.4951 - accuracy: 0.7908\n",
      "Epoch 1/1\n",
      "6750/6750 [==============================] - 1s 103us/step - loss: 0.4950 - accuracy: 0.7935\n",
      "Epoch 1/1\n",
      "6750/6750 [==============================] - 1s 98us/step - loss: 0.4880 - accuracy: 0.7950\n",
      "Epoch 1/1\n",
      "6750/6750 [==============================] - 1s 95us/step - loss: 0.4962 - accuracy: 0.7969\n",
      "Epoch 1/1\n",
      "6750/6750 [==============================] - 1s 101us/step - loss: 0.4823 - accuracy: 0.7933\n",
      "Epoch 1/1\n",
      "6750/6750 [==============================] - 1s 101us/step - loss: 0.4933 - accuracy: 0.7973\n",
      "Epoch 1/1\n",
      "6750/6750 [==============================] - 1s 103us/step - loss: 0.4978 - accuracy: 0.7944\n",
      "Epoch 1/1\n",
      "6750/6750 [==============================] - 1s 118us/step - loss: 0.4843 - accuracy: 0.7959\n",
      "Epoch 1/1\n",
      "6750/6750 [==============================] - 1s 114us/step - loss: 0.4856 - accuracy: 0.7950\n",
      "Epoch 1/1\n",
      "6750/6750 [==============================] - 1s 148us/step - loss: 0.4793 - accuracy: 0.7966\n",
      "Epoch 1/1\n",
      "6750/6750 [==============================] - 1s 116us/step - loss: 0.4816 - accuracy: 0.7954\n",
      "Epoch 1/1\n",
      "7500/7500 [==============================] - 2s 234us/step - loss: 0.4734 - accuracy: 0.7939\n"
     ]
    }
   ],
   "source": [
    "grid_search = grid_search.fit(X_train, y_train)"
   ]
  },
  {
   "cell_type": "code",
   "execution_count": 63,
   "metadata": {},
   "outputs": [],
   "source": [
    "best_param = grid_search.best_params_\n",
    "best_accuracy = grid_search.best_score_"
   ]
  },
  {
   "cell_type": "code",
   "execution_count": 64,
   "metadata": {},
   "outputs": [
    {
     "data": {
      "text/plain": [
       "{'batch_size': 25, 'nb_epoch': 100, 'optimizer': 'adam'}"
      ]
     },
     "execution_count": 64,
     "metadata": {},
     "output_type": "execute_result"
    }
   ],
   "source": [
    "best_param"
   ]
  },
  {
   "cell_type": "code",
   "execution_count": 65,
   "metadata": {},
   "outputs": [
    {
     "data": {
      "text/plain": [
       "0.8277333333333333"
      ]
     },
     "execution_count": 65,
     "metadata": {},
     "output_type": "execute_result"
    }
   ],
   "source": [
    "best_accuracy"
   ]
  },
  {
   "cell_type": "code",
   "execution_count": null,
   "metadata": {},
   "outputs": [],
   "source": []
  }
 ],
 "metadata": {
  "kernelspec": {
   "display_name": "Python 3",
   "language": "python",
   "name": "python3"
  },
  "language_info": {
   "codemirror_mode": {
    "name": "ipython",
    "version": 3
   },
   "file_extension": ".py",
   "mimetype": "text/x-python",
   "name": "python",
   "nbconvert_exporter": "python",
   "pygments_lexer": "ipython3",
   "version": "3.7.6"
  }
 },
 "nbformat": 4,
 "nbformat_minor": 4
}
